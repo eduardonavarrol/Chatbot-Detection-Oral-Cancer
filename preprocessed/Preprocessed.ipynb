{
 "cells": [
  {
   "cell_type": "markdown",
   "id": "52a4b411-36eb-4e42-8ed4-400291d4a2ef",
   "metadata": {},
   "source": [
    "# Proyecto Bucal"
   ]
  },
  {
   "cell_type": "markdown",
   "id": "f63e7f9b-61e8-4e19-897e-f32127464aed",
   "metadata": {},
   "source": [
    "### Preprocesamiento de Imagenes"
   ]
  },
  {
   "cell_type": "code",
   "execution_count": 8,
   "id": "ab1b57f1-6de6-4d5b-8cc0-2ec52c4d295a",
   "metadata": {},
   "outputs": [
    {
     "name": "stdout",
     "output_type": "stream",
     "text": [
      "Error: No se pudo cargar la imagen C:\\Users\\enavarro\\Desktop\\Tesis MGTT\\Entrenamientos\\Codigos\\DataSet\\Dataset_Tesis\\Data Procesada Kaagle\\cancer\\101.jpeg\n",
      "Error: No se pudo cargar la imagen C:\\Users\\enavarro\\Desktop\\Tesis MGTT\\Entrenamientos\\Codigos\\DataSet\\Dataset_Tesis\\Data Procesada Kaagle\\cancer\\200.jpeg\n",
      "Error: No se pudo cargar la imagen C:\\Users\\enavarro\\Desktop\\Tesis MGTT\\Entrenamientos\\Codigos\\DataSet\\Dataset_Tesis\\Data Procesada Kaagle\\cancer\\273.jpeg\n",
      "Error: No se pudo cargar la imagen C:\\Users\\enavarro\\Desktop\\Tesis MGTT\\Entrenamientos\\Codigos\\DataSet\\Dataset_Tesis\\Data Procesada Kaagle\\cancer\\317.jpeg\n",
      "Error: No se pudo cargar la imagen C:\\Users\\enavarro\\Desktop\\Tesis MGTT\\Entrenamientos\\Codigos\\DataSet\\Dataset_Tesis\\Data Procesada Kaagle\\cancer\\328.jpeg\n",
      "Error: No se pudo cargar la imagen C:\\Users\\enavarro\\Desktop\\Tesis MGTT\\Entrenamientos\\Codigos\\DataSet\\Dataset_Tesis\\Data Procesada Kaagle\\cancer\\407.jpeg\n",
      "Error: No se pudo cargar la imagen C:\\Users\\enavarro\\Desktop\\Tesis MGTT\\Entrenamientos\\Codigos\\DataSet\\Dataset_Tesis\\Data Procesada Kaagle\\cancer\\450.jpeg\n",
      "Error: No se pudo cargar la imagen C:\\Users\\enavarro\\Desktop\\Tesis MGTT\\Entrenamientos\\Codigos\\DataSet\\Dataset_Tesis\\Data Procesada Kaagle\\cancer\\455.jpeg\n",
      "Error: No se pudo cargar la imagen C:\\Users\\enavarro\\Desktop\\Tesis MGTT\\Entrenamientos\\Codigos\\DataSet\\Dataset_Tesis\\Data Procesada Kaagle\\cancer\\481.jpeg\n",
      "Error: No se pudo cargar la imagen C:\\Users\\enavarro\\Desktop\\Tesis MGTT\\Entrenamientos\\Codigos\\DataSet\\Dataset_Tesis\\Data Procesada Kaagle\\cancer\\485.jpeg\n"
     ]
    }
   ],
   "source": [
    "# Función para encontrar y eliminar imágenes duplicadas\n",
    "def findDelDuplImg(file_name, file_dir):\n",
    "    searchedImgPath = os.path.join(file_dir, file_name)\n",
    "    searchedImage = np.array(cv2.imread(searchedImgPath, 0))\n",
    "    # Comenzar a iterar sobre todas las imágenes\n",
    "    for cmpImageName in os.listdir(file_dir):\n",
    "        if cmpImageName != file_name:\n",
    "            # Si el nombre es diferente\n",
    "            try:\n",
    "                # Concatenar ruta a la imagen\n",
    "                cmpImagePath = os.path.join(file_dir, cmpImageName)\n",
    "                # Abrir imagen para comparar\n",
    "                cmpImage = np.array(cv2.imread(cmpImagePath, 0))\n",
    "                # Cuente la raíz cuadrática media entre ambas imágenes (RMS)\n",
    "                rms = math.sqrt(mean_squared_error(searchedImage, cmpImage))\n",
    "            except:\n",
    "                continue\n",
    "            # Si RMS es menor que 3, esto significa que las imágenes son similares o iguales\n",
    "            if rms < 3:\n",
    "                # Eliminar la misma imagen en el directorio\n",
    "                os.remove(cmpImagePath)\n",
    "\n",
    "# Función para preprocesamiento de imágenes\n",
    "def processDataset(dataset_src, dataset_dest):\n",
    "    # Hacer una copia del conjunto de datos\n",
    "    shutil.copytree(dataset_src, dataset_dest)\n",
    "    for folder in os.listdir(dataset_dest):\n",
    "        for (index, file) in enumerate(os.listdir(os.path.join(dataset_dest, folder)), start=1):\n",
    "            filename = f'img_{folder}_{index}.jpg'\n",
    "            img_src = os.path.join(dataset_dest, folder, file)\n",
    "            img_des = os.path.join(dataset_dest, folder, filename)\n",
    "            # Preprocesar las imágenes.\n",
    "            # Comprueba que no se pueda abrir y envía un mensaje, de lo contrario la procesa.\n",
    "            img = cv2.imread(img_src)\n",
    "\n",
    "            if img is None:\n",
    "                print(\"Error: No se pudo cargar la imagen\", img_src)\n",
    "            else:\n",
    "                # Redimensionar la imagen\n",
    "                img = cv2.resize(img, (256, 256))\n",
    "                # Guardar la imagen procesada\n",
    "                cv2.imwrite(img_des, img)\n",
    "                # Eliminar la imagen original\n",
    "                os.remove(img_src)\n",
    "        for file in os.listdir(os.path.join(dataset_dest, folder)):\n",
    "            # Encuentra imágenes duplicadas y elimina duplicados\n",
    "            findDelDuplImg(file, os.path.join(dataset_dest, folder))\n",
    "\n",
    "# Ubicación de origen para el conjunto de datos\n",
    "src = r'C:\\Users\\enavarro\\Desktop\\Tesis MGTT\\Entrenamientos\\Codigos\\DataSet\\Dataset_Tesis\\Data Original Kaagle'\n",
    "# Ubicación de destino para el conjunto de datos\n",
    "dest = r'C:\\Users\\enavarro\\Desktop\\Tesis MGTT\\Entrenamientos\\Codigos\\DataSet\\Dataset_Tesis\\Data Procesada Kaagle'\n",
    "# Preprocesamiento de imágenes\n",
    "processDataset(src, dest)\n",
    "\n",
    "\n"
   ]
  },
  {
   "cell_type": "code",
   "execution_count": null,
   "id": "548e3e06-edc1-43cc-b914-5a3545c9f828",
   "metadata": {},
   "outputs": [],
   "source": []
  }
 ],
 "metadata": {
  "kernelspec": {
   "display_name": "Python 3 (ipykernel)",
   "language": "python",
   "name": "python3"
  },
  "language_info": {
   "codemirror_mode": {
    "name": "ipython",
    "version": 3
   },
   "file_extension": ".py",
   "mimetype": "text/x-python",
   "name": "python",
   "nbconvert_exporter": "python",
   "pygments_lexer": "ipython3",
   "version": "3.11.7"
  }
 },
 "nbformat": 4,
 "nbformat_minor": 5
}
