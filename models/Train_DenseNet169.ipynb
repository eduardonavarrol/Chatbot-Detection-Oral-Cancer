{
 "cells": [
  {
   "cell_type": "markdown",
   "id": "c464d80a-becf-4336-b71d-82982438e332",
   "metadata": {},
   "source": [
    "# Proyecto Cancer Bucal"
   ]
  },
  {
   "cell_type": "markdown",
   "id": "d3803e22-75a2-4863-b6bd-80e46badbb93",
   "metadata": {},
   "source": [
    "## Librerias"
   ]
  },
  {
   "cell_type": "code",
   "execution_count": 1,
   "id": "9758d281-8f35-47b9-87de-2c50661352ad",
   "metadata": {
    "tags": []
   },
   "outputs": [],
   "source": [
    "##Librerias\n",
    "import cv2\n",
    "import os\n",
    "import shutil\n",
    "import math\n",
    "import random\n",
    "import numpy as np\n",
    "import pandas as pd\n",
    "import matplotlib.pyplot as plt\n",
    "\n",
    "from sklearn.metrics import mean_squared_error\n",
    "\n",
    "import warnings\n",
    "warnings.filterwarnings(\"ignore\")\n",
    "\n",
    "import keras\n",
    "from keras.layers import Dense,Conv2D, Flatten, MaxPool2D, Dropout\n",
    "from keras.models import Sequential\n",
    "from keras.preprocessing import image\n",
    "from keras.callbacks import ModelCheckpoint\n",
    "from keras.models import load_model"
   ]
  },
  {
   "cell_type": "markdown",
   "id": "a2c568f0-8412-4d25-87d7-208a0882dfae",
   "metadata": {},
   "source": [
    "## Contar Imagenes Procesadas"
   ]
  },
  {
   "cell_type": "code",
   "execution_count": 2,
   "id": "6d744428-e330-4f2a-940e-db3041f5514a",
   "metadata": {},
   "outputs": [
    {
     "name": "stdout",
     "output_type": "stream",
     "text": [
      "{'cancer': 500, 'non-cancer': 450}\n"
     ]
    }
   ],
   "source": [
    "def GetDatasetSize(path):\n",
    "    num_of_image = {}\n",
    "    for folder in os.listdir(path):\n",
    "        num_of_image[folder] = len(os.listdir(os.path.join(path, folder)));\n",
    "    return num_of_image;\n",
    "\n",
    "path = r'C:\\Users\\enavarro\\Desktop\\Eduardo\\Proyecto_Bucal\\DataSet\\DataSet_Kaagle_2.0\\Preprocesadas';\n",
    "DatasetSize = GetDatasetSize(path);\n",
    "print(DatasetSize);"
   ]
  },
  {
   "cell_type": "markdown",
   "id": "9212fd87-c5b7-4f69-aa7c-6dd785ae276c",
   "metadata": {},
   "source": [
    "## División de Datos "
   ]
  },
  {
   "cell_type": "markdown",
   "id": "29695b86-5fe5-4df2-bbca-02df981f75bf",
   "metadata": {},
   "source": [
    "70% Datos Entrenamiento\r\n",
    "15% Datos Validación\r\n",
    "15% Datos Testeo"
   ]
  },
  {
   "cell_type": "code",
   "execution_count": 3,
   "id": "8d02712a-dde1-4176-a3d4-4cafdd49d37f",
   "metadata": {},
   "outputs": [
    {
     "name": "stdout",
     "output_type": "stream",
     "text": [
      "CANCER :\n",
      "Total Imagenes:  464\n",
      "Entrenamiento:  324\n",
      "Validación:  70\n",
      "Testeo:  70\n",
      "\n",
      "NON-CANCER :\n",
      "Total Imagenes:  435\n",
      "Entrenamiento:  304\n",
      "Validación:  65\n",
      "Testeo:  66\n",
      "\n"
     ]
    }
   ],
   "source": [
    "\n",
    "def TrainValTestSplit(root_dir, classes_dir, val_ratio=0.15, test_ratio=0.15):\n",
    "    for cls in classes_dir:\n",
    "\n",
    "        train_path = os.path.join(r'C:\\Users\\enavarro\\Desktop\\Eduardo\\Proyecto_Bucal\\DataSet\\DataSet_Kaagle_2.0\\Division_Datos\\Entrenamiento', cls)\n",
    "        val_path = os.path.join(r'C:\\Users\\enavarro\\Desktop\\Eduardo\\Proyecto_Bucal\\DataSet\\DataSet_Kaagle_2.0\\Division_Datos\\Validacion', cls)\n",
    "        test_path = os.path.join(r'C:\\Users\\enavarro\\Desktop\\Eduardo\\Proyecto_Bucal\\DataSet\\DataSet_Kaagle_2.0\\Division_Datos\\Testeo', cls)\n",
    "\n",
    "        os.makedirs(train_path, exist_ok=True)\n",
    "        os.makedirs(val_path, exist_ok=True)\n",
    "        os.makedirs(test_path, exist_ok=True)\n",
    "\n",
    "        src = os.path.join(root_dir, cls)\n",
    "\n",
    "        allFileNames = os.listdir(src)\n",
    "        np.random.shuffle(allFileNames)\n",
    "\n",
    "        train_FileNames, val_FileNames, test_FileNames = np.split(np.array(allFileNames), [int(len(allFileNames) * (1 - (val_ratio + test_ratio))), int(len(allFileNames) * (1 - test_ratio))])\n",
    "\n",
    "        train_FileNames = [os.path.join(src, name) for name in train_FileNames.tolist()]\n",
    "        val_FileNames = [os.path.join(src, name) for name in val_FileNames.tolist()]\n",
    "        test_FileNames = [os.path.join(src, name) for name in test_FileNames.tolist()]\n",
    "\n",
    "        print(cls.upper(), ':')\n",
    "        print('Total Imagenes: ', len(allFileNames))\n",
    "        print('Entrenamiento: ', len(train_FileNames))\n",
    "        print('Validación: ', len(val_FileNames))\n",
    "        print('Testeo: ', len(test_FileNames))\n",
    "\n",
    "        for name in train_FileNames:\n",
    "            shutil.copy(name, train_path)\n",
    "\n",
    "        for name in val_FileNames:\n",
    "            shutil.copy(name, val_path)\n",
    "\n",
    "        for name in test_FileNames:\n",
    "            shutil.copy(name, test_path)\n",
    "        print()\n",
    "\n",
    "root_dir = r'C:\\Users\\enavarro\\Desktop\\Eduardo\\Proyecto_Bucal\\DataSet\\DataSet_Kaagle_2.0\\Procesadas'\n",
    "classes_dir = ['cancer', 'non-cancer']  # Classes\n",
    "TrainValTestSplit(root_dir, classes_dir)\n"
   ]
  },
  {
   "cell_type": "markdown",
   "id": "d902683f-0d2e-44ed-be8e-6f7a26e4275a",
   "metadata": {},
   "source": [
    "# Construcción Modelos"
   ]
  },
  {
   "cell_type": "markdown",
   "id": "0fd6f45f-9137-4950-be2d-2ef02bafd936",
   "metadata": {},
   "source": [
    "## DenseNet - 169"
   ]
  },
  {
   "cell_type": "code",
   "execution_count": 4,
   "id": "520188a2-fb09-439b-9f04-5261bfb3d941",
   "metadata": {},
   "outputs": [
    {
     "name": "stdout",
     "output_type": "stream",
     "text": [
      "Found 899 images belonging to 2 classes.\n",
      "Found 885 images belonging to 2 classes.\n",
      "Epoch 1/200\n",
      "\u001b[1m2/2\u001b[0m \u001b[32m━━━━━━━━━━━━━━━━━━━━\u001b[0m\u001b[37m\u001b[0m \u001b[1m0s\u001b[0m 2s/step - accuracy: 0.4609 - loss: 0.8464 - sensitivity: 0.5391 - specificity: 0.6250  \n",
      "Epoch 1: val_accuracy improved from -inf to 0.59375, saving model to pt_control_modelo.keras\n",
      "\u001b[1m2/2\u001b[0m \u001b[32m━━━━━━━━━━━━━━━━━━━━\u001b[0m\u001b[37m\u001b[0m \u001b[1m45s\u001b[0m 13s/step - accuracy: 0.4583 - loss: 0.8575 - sensitivity: 0.5000 - specificity: 0.6042 - val_accuracy: 0.5938 - val_loss: 0.7000 - val_sensitivity: 0.5000 - val_specificity: 0.4062\n",
      "Epoch 2/200\n",
      "\u001b[1m2/2\u001b[0m \u001b[32m━━━━━━━━━━━━━━━━━━━━\u001b[0m\u001b[37m\u001b[0m \u001b[1m0s\u001b[0m 2s/step - accuracy: 0.5234 - loss: 0.7545 - sensitivity: 0.5312 - specificity: 0.3984\n",
      "Epoch 2: val_accuracy improved from 0.59375 to 0.68750, saving model to pt_control_modelo.keras\n",
      "\u001b[1m2/2\u001b[0m \u001b[32m━━━━━━━━━━━━━━━━━━━━\u001b[0m\u001b[37m\u001b[0m \u001b[1m8s\u001b[0m 6s/step - accuracy: 0.5104 - loss: 0.7489 - sensitivity: 0.5312 - specificity: 0.3958 - val_accuracy: 0.6875 - val_loss: 0.6509 - val_sensitivity: 0.3750 - val_specificity: 0.6250\n",
      "Epoch 3/200\n",
      "\u001b[1m2/2\u001b[0m \u001b[32m━━━━━━━━━━━━━━━━━━━━\u001b[0m\u001b[37m\u001b[0m \u001b[1m0s\u001b[0m 2s/step - accuracy: 0.5391 - loss: 0.7136 - sensitivity: 0.5781 - specificity: 0.5703\n",
      "Epoch 3: val_accuracy improved from 0.68750 to 0.71875, saving model to pt_control_modelo.keras\n",
      "\u001b[1m2/2\u001b[0m \u001b[32m━━━━━━━━━━━━━━━━━━━━\u001b[0m\u001b[37m\u001b[0m \u001b[1m8s\u001b[0m 6s/step - accuracy: 0.5521 - loss: 0.7026 - sensitivity: 0.5729 - specificity: 0.5625 - val_accuracy: 0.7188 - val_loss: 0.6126 - val_sensitivity: 0.5000 - val_specificity: 0.3438\n",
      "Epoch 4/200\n",
      "\u001b[1m2/2\u001b[0m \u001b[32m━━━━━━━━━━━━━━━━━━━━\u001b[0m\u001b[37m\u001b[0m \u001b[1m0s\u001b[0m 2s/step - accuracy: 0.6094 - loss: 0.6766 - sensitivity: 0.5703 - specificity: 0.5078\n",
      "Epoch 4: val_accuracy improved from 0.71875 to 0.84375, saving model to pt_control_modelo.keras\n",
      "\u001b[1m2/2\u001b[0m \u001b[32m━━━━━━━━━━━━━━━━━━━━\u001b[0m\u001b[37m\u001b[0m \u001b[1m8s\u001b[0m 6s/step - accuracy: 0.6042 - loss: 0.6750 - sensitivity: 0.5729 - specificity: 0.5104 - val_accuracy: 0.8438 - val_loss: 0.5224 - val_sensitivity: 0.3750 - val_specificity: 0.5938\n",
      "Epoch 5/200\n",
      "\u001b[1m2/2\u001b[0m \u001b[32m━━━━━━━━━━━━━━━━━━━━\u001b[0m\u001b[37m\u001b[0m \u001b[1m0s\u001b[0m 2s/step - accuracy: 0.5859 - loss: 0.6478 - sensitivity: 0.4531 - specificity: 0.4609\n",
      "Epoch 5: val_accuracy did not improve from 0.84375\n",
      "\u001b[1m2/2\u001b[0m \u001b[32m━━━━━━━━━━━━━━━━━━━━\u001b[0m\u001b[37m\u001b[0m \u001b[1m7s\u001b[0m 5s/step - accuracy: 0.5833 - loss: 0.6483 - sensitivity: 0.4375 - specificity: 0.4583 - val_accuracy: 0.7812 - val_loss: 0.5250 - val_sensitivity: 0.4375 - val_specificity: 0.3438\n",
      "Epoch 6/200\n",
      "\u001b[1m2/2\u001b[0m \u001b[32m━━━━━━━━━━━━━━━━━━━━\u001b[0m\u001b[37m\u001b[0m \u001b[1m0s\u001b[0m 2s/step - accuracy: 0.8125 - loss: 0.4534 - sensitivity: 0.5000 - specificity: 0.4375\n",
      "Epoch 6: val_accuracy did not improve from 0.84375\n",
      "\u001b[1m2/2\u001b[0m \u001b[32m━━━━━━━━━━━━━━━━━━━━\u001b[0m\u001b[37m\u001b[0m \u001b[1m7s\u001b[0m 5s/step - accuracy: 0.8021 - loss: 0.4628 - sensitivity: 0.5000 - specificity: 0.4271 - val_accuracy: 0.7812 - val_loss: 0.5382 - val_sensitivity: 0.3438 - val_specificity: 0.5625\n",
      "Epoch 7/200\n",
      "\u001b[1m2/2\u001b[0m \u001b[32m━━━━━━━━━━━━━━━━━━━━\u001b[0m\u001b[37m\u001b[0m \u001b[1m0s\u001b[0m 2s/step - accuracy: 0.7266 - loss: 0.5466 - sensitivity: 0.4844 - specificity: 0.3984\n",
      "Epoch 7: val_accuracy did not improve from 0.84375\n",
      "\u001b[1m2/2\u001b[0m \u001b[32m━━━━━━━━━━━━━━━━━━━━\u001b[0m\u001b[37m\u001b[0m \u001b[1m7s\u001b[0m 5s/step - accuracy: 0.7188 - loss: 0.5521 - sensitivity: 0.4896 - specificity: 0.3958 - val_accuracy: 0.8438 - val_loss: 0.4938 - val_sensitivity: 0.5000 - val_specificity: 0.4688\n",
      "Epoch 8/200\n",
      "\u001b[1m2/2\u001b[0m \u001b[32m━━━━━━━━━━━━━━━━━━━━\u001b[0m\u001b[37m\u001b[0m \u001b[1m0s\u001b[0m 2s/step - accuracy: 0.8125 - loss: 0.4620 - sensitivity: 0.5234 - specificity: 0.5234\n",
      "Epoch 8: val_accuracy improved from 0.84375 to 0.87500, saving model to pt_control_modelo.keras\n",
      "\u001b[1m2/2\u001b[0m \u001b[32m━━━━━━━━━━━━━━━━━━━━\u001b[0m\u001b[37m\u001b[0m \u001b[1m8s\u001b[0m 6s/step - accuracy: 0.8125 - loss: 0.4697 - sensitivity: 0.5312 - specificity: 0.5104 - val_accuracy: 0.8750 - val_loss: 0.4476 - val_sensitivity: 0.4688 - val_specificity: 0.5312\n",
      "Epoch 9/200\n",
      "\u001b[1m2/2\u001b[0m \u001b[32m━━━━━━━━━━━━━━━━━━━━\u001b[0m\u001b[37m\u001b[0m \u001b[1m0s\u001b[0m 2s/step - accuracy: 0.8359 - loss: 0.4082 - sensitivity: 0.5391 - specificity: 0.4219\n",
      "Epoch 9: val_accuracy did not improve from 0.87500\n",
      "\u001b[1m2/2\u001b[0m \u001b[32m━━━━━━━━━━━━━━━━━━━━\u001b[0m\u001b[37m\u001b[0m \u001b[1m7s\u001b[0m 5s/step - accuracy: 0.8333 - loss: 0.4102 - sensitivity: 0.5417 - specificity: 0.4167 - val_accuracy: 0.8750 - val_loss: 0.3894 - val_sensitivity: 0.3750 - val_specificity: 0.6875\n",
      "Epoch 10/200\n",
      "\u001b[1m2/2\u001b[0m \u001b[32m━━━━━━━━━━━━━━━━━━━━\u001b[0m\u001b[37m\u001b[0m \u001b[1m0s\u001b[0m 2s/step - accuracy: 0.8047 - loss: 0.4957 - sensitivity: 0.4375 - specificity: 0.5391\n",
      "Epoch 10: val_accuracy did not improve from 0.87500\n",
      "\u001b[1m2/2\u001b[0m \u001b[32m━━━━━━━━━━━━━━━━━━━━\u001b[0m\u001b[37m\u001b[0m \u001b[1m7s\u001b[0m 5s/step - accuracy: 0.7812 - loss: 0.5079 - sensitivity: 0.4375 - specificity: 0.5521 - val_accuracy: 0.8125 - val_loss: 0.4079 - val_sensitivity: 0.1562 - val_specificity: 0.7188\n",
      "Epoch 11/200\n",
      "\u001b[1m2/2\u001b[0m \u001b[32m━━━━━━━━━━━━━━━━━━━━\u001b[0m\u001b[37m\u001b[0m \u001b[1m0s\u001b[0m 2s/step - accuracy: 0.8047 - loss: 0.4767 - sensitivity: 0.4531 - specificity: 0.5234\n",
      "Epoch 11: val_accuracy did not improve from 0.87500\n",
      "\u001b[1m2/2\u001b[0m \u001b[32m━━━━━━━━━━━━━━━━━━━━\u001b[0m\u001b[37m\u001b[0m \u001b[1m7s\u001b[0m 4s/step - accuracy: 0.8021 - loss: 0.4847 - sensitivity: 0.4479 - specificity: 0.5208 - val_accuracy: 0.8438 - val_loss: 0.3993 - val_sensitivity: 0.6250 - val_specificity: 0.3438\n",
      "Epoch 12/200\n",
      "\u001b[1m2/2\u001b[0m \u001b[32m━━━━━━━━━━━━━━━━━━━━\u001b[0m\u001b[37m\u001b[0m \u001b[1m0s\u001b[0m 2s/step - accuracy: 0.5667 - loss: 0.7133 - sensitivity: 0.1094 - specificity: 0.8516       \n",
      "Epoch 12: val_accuracy did not improve from 0.87500\n",
      "\u001b[1m2/2\u001b[0m \u001b[32m━━━━━━━━━━━━━━━━━━━━\u001b[0m\u001b[37m\u001b[0m \u001b[1m5s\u001b[0m 5s/step - accuracy: 0.6444 - loss: 0.6200 - sensitivity: 0.1458 - specificity: 0.8021 - val_accuracy: 0.8125 - val_loss: 0.4366 - val_sensitivity: 0.4062 - val_specificity: 0.4062\n",
      "Epoch 13/200\n",
      "\u001b[1m2/2\u001b[0m \u001b[32m━━━━━━━━━━━━━━━━━━━━\u001b[0m\u001b[37m\u001b[0m \u001b[1m0s\u001b[0m 2s/step - accuracy: 0.8359 - loss: 0.4159 - sensitivity: 0.4609 - specificity: 0.5312\n",
      "Epoch 13: val_accuracy improved from 0.87500 to 0.90625, saving model to pt_control_modelo.keras\n",
      "\u001b[1m2/2\u001b[0m \u001b[32m━━━━━━━━━━━━━━━━━━━━\u001b[0m\u001b[37m\u001b[0m \u001b[1m8s\u001b[0m 6s/step - accuracy: 0.8438 - loss: 0.4052 - sensitivity: 0.4792 - specificity: 0.5104 - val_accuracy: 0.9062 - val_loss: 0.2877 - val_sensitivity: 0.3438 - val_specificity: 0.6875\n",
      "Epoch 14/200\n",
      "\u001b[1m2/2\u001b[0m \u001b[32m━━━━━━━━━━━━━━━━━━━━\u001b[0m\u001b[37m\u001b[0m \u001b[1m0s\u001b[0m 2s/step - accuracy: 0.8906 - loss: 0.3486 - sensitivity: 0.6250 - specificity: 0.3438\n",
      "Epoch 14: val_accuracy did not improve from 0.90625\n",
      "\u001b[1m2/2\u001b[0m \u001b[32m━━━━━━━━━━━━━━━━━━━━\u001b[0m\u001b[37m\u001b[0m \u001b[1m7s\u001b[0m 5s/step - accuracy: 0.8958 - loss: 0.3422 - sensitivity: 0.6250 - specificity: 0.3542 - val_accuracy: 0.6875 - val_loss: 0.5571 - val_sensitivity: 0.3125 - val_specificity: 0.5000\n",
      "Epoch 15/200\n",
      "\u001b[1m1/2\u001b[0m \u001b[32m━━━━━━━━━━\u001b[0m\u001b[37m━━━━━━━━━━\u001b[0m \u001b[1m2s\u001b[0m 2s/step - accuracy: 0.9062 - loss: 0.3160 - sensitivity: 0.6250 - specificity: 0.4062\n",
      "Epoch 15: val_accuracy did not improve from 0.90625\n",
      "\u001b[1m2/2\u001b[0m \u001b[32m━━━━━━━━━━━━━━━━━━━━\u001b[0m\u001b[37m\u001b[0m \u001b[1m5s\u001b[0m 2s/step - accuracy: 0.9062 - loss: 0.3160 - sensitivity: 0.4688 - specificity: 0.3047 - val_accuracy: 0.7188 - val_loss: 0.5195 - val_sensitivity: 0.3750 - val_specificity: 0.4688\n",
      "Epoch 16/200\n",
      "\u001b[1m2/2\u001b[0m \u001b[32m━━━━━━━━━━━━━━━━━━━━\u001b[0m\u001b[37m\u001b[0m \u001b[1m0s\u001b[0m 2s/step - accuracy: 0.8516 - loss: 0.4242 - sensitivity: 0.5938 - specificity: 0.4141\n",
      "Epoch 16: val_accuracy did not improve from 0.90625\n",
      "\u001b[1m2/2\u001b[0m \u001b[32m━━━━━━━━━━━━━━━━━━━━\u001b[0m\u001b[37m\u001b[0m \u001b[1m10s\u001b[0m 4s/step - accuracy: 0.8438 - loss: 0.4328 - sensitivity: 0.5833 - specificity: 0.4062 - val_accuracy: 0.7500 - val_loss: 0.4680 - val_sensitivity: 0.3438 - val_specificity: 0.5938\n",
      "Epoch 17/200\n",
      "\u001b[1m2/2\u001b[0m \u001b[32m━━━━━━━━━━━━━━━━━━━━\u001b[0m\u001b[37m\u001b[0m \u001b[1m0s\u001b[0m 2s/step - accuracy: 0.8594 - loss: 0.4337 - sensitivity: 0.5234 - specificity: 0.3516\n",
      "Epoch 17: val_accuracy did not improve from 0.90625\n",
      "\u001b[1m2/2\u001b[0m \u001b[32m━━━━━━━━━━━━━━━━━━━━\u001b[0m\u001b[37m\u001b[0m \u001b[1m7s\u001b[0m 5s/step - accuracy: 0.8646 - loss: 0.4256 - sensitivity: 0.5312 - specificity: 0.3542 - val_accuracy: 0.9062 - val_loss: 0.3056 - val_sensitivity: 0.5312 - val_specificity: 0.3750\n",
      "Epoch 18/200\n",
      "\u001b[1m2/2\u001b[0m \u001b[32m━━━━━━━━━━━━━━━━━━━━\u001b[0m\u001b[37m\u001b[0m \u001b[1m0s\u001b[0m 2s/step - accuracy: 0.8125 - loss: 0.4475 - sensitivity: 0.5703 - specificity: 0.3203\n",
      "Epoch 18: val_accuracy did not improve from 0.90625\n",
      "\u001b[1m2/2\u001b[0m \u001b[32m━━━━━━━━━━━━━━━━━━━━\u001b[0m\u001b[37m\u001b[0m \u001b[1m7s\u001b[0m 4s/step - accuracy: 0.8021 - loss: 0.4673 - sensitivity: 0.5521 - specificity: 0.3333 - val_accuracy: 0.8750 - val_loss: 0.3870 - val_sensitivity: 0.5000 - val_specificity: 0.4375\n",
      "Epoch 19/200\n",
      "\u001b[1m2/2\u001b[0m \u001b[32m━━━━━━━━━━━━━━━━━━━━\u001b[0m\u001b[37m\u001b[0m \u001b[1m0s\u001b[0m 2s/step - accuracy: 0.8047 - loss: 0.3826 - sensitivity: 0.4531 - specificity: 0.4453\n",
      "Epoch 19: val_accuracy did not improve from 0.90625\n",
      "\u001b[1m2/2\u001b[0m \u001b[32m━━━━━━━━━━━━━━━━━━━━\u001b[0m\u001b[37m\u001b[0m \u001b[1m7s\u001b[0m 5s/step - accuracy: 0.8125 - loss: 0.3791 - sensitivity: 0.4688 - specificity: 0.4271 - val_accuracy: 0.8750 - val_loss: 0.3310 - val_sensitivity: 0.5938 - val_specificity: 0.4062\n",
      "Epoch 20/200\n",
      "\u001b[1m2/2\u001b[0m \u001b[32m━━━━━━━━━━━━━━━━━━━━\u001b[0m\u001b[37m\u001b[0m \u001b[1m0s\u001b[0m 2s/step - accuracy: 0.8359 - loss: 0.4132 - sensitivity: 0.5547 - specificity: 0.4844\n",
      "Epoch 20: val_accuracy did not improve from 0.90625\n",
      "\u001b[1m2/2\u001b[0m \u001b[32m━━━━━━━━━━━━━━━━━━━━\u001b[0m\u001b[37m\u001b[0m \u001b[1m7s\u001b[0m 5s/step - accuracy: 0.8229 - loss: 0.4281 - sensitivity: 0.5521 - specificity: 0.5000 - val_accuracy: 0.8125 - val_loss: 0.4005 - val_sensitivity: 0.5625 - val_specificity: 0.5625\n",
      "Epoch 21/200\n",
      "\u001b[1m2/2\u001b[0m \u001b[32m━━━━━━━━━━━━━━━━━━━━\u001b[0m\u001b[37m\u001b[0m \u001b[1m0s\u001b[0m 2s/step - accuracy: 0.8750 - loss: 0.4087 - sensitivity: 0.6562 - specificity: 0.4062\n",
      "Epoch 21: val_accuracy did not improve from 0.90625\n",
      "\u001b[1m2/2\u001b[0m \u001b[32m━━━━━━━━━━━━━━━━━━━━\u001b[0m\u001b[37m\u001b[0m \u001b[1m7s\u001b[0m 5s/step - accuracy: 0.8750 - loss: 0.4093 - sensitivity: 0.6562 - specificity: 0.4062 - val_accuracy: 0.8750 - val_loss: 0.3010 - val_sensitivity: 0.3438 - val_specificity: 0.5312\n",
      "Epoch 22/200\n",
      "\u001b[1m2/2\u001b[0m \u001b[32m━━━━━━━━━━━━━━━━━━━━\u001b[0m\u001b[37m\u001b[0m \u001b[1m0s\u001b[0m 2s/step - accuracy: 0.8672 - loss: 0.3727 - sensitivity: 0.5547 - specificity: 0.4062\n",
      "Epoch 22: val_accuracy did not improve from 0.90625\n",
      "\u001b[1m2/2\u001b[0m \u001b[32m━━━━━━━━━━━━━━━━━━━━\u001b[0m\u001b[37m\u001b[0m \u001b[1m7s\u001b[0m 5s/step - accuracy: 0.8646 - loss: 0.3704 - sensitivity: 0.5521 - specificity: 0.4167 - val_accuracy: 0.7500 - val_loss: 0.4553 - val_sensitivity: 0.4688 - val_specificity: 0.4688\n",
      "Epoch 23/200\n",
      "\u001b[1m2/2\u001b[0m \u001b[32m━━━━━━━━━━━━━━━━━━━━\u001b[0m\u001b[37m\u001b[0m \u001b[1m0s\u001b[0m 2s/step - accuracy: 0.7969 - loss: 0.3689 - sensitivity: 0.5156 - specificity: 0.4688\n",
      "Epoch 23: val_accuracy did not improve from 0.90625\n",
      "\u001b[1m2/2\u001b[0m \u001b[32m━━━━━━━━━━━━━━━━━━━━\u001b[0m\u001b[37m\u001b[0m \u001b[1m7s\u001b[0m 4s/step - accuracy: 0.8021 - loss: 0.3646 - sensitivity: 0.5104 - specificity: 0.4792 - val_accuracy: 0.7812 - val_loss: 0.4771 - val_sensitivity: 0.5000 - val_specificity: 0.4688\n",
      "Epoch 23: early stopping\n",
      "Restoring model weights from the end of the best epoch: 13.\n",
      "\u001b[1m28/28\u001b[0m \u001b[32m━━━━━━━━━━━━━━━━━━━━\u001b[0m\u001b[37m\u001b[0m \u001b[1m75s\u001b[0m 2s/step\n",
      "\u001b[1m28/28\u001b[0m \u001b[32m━━━━━━━━━━━━━━━━━━━━\u001b[0m\u001b[37m\u001b[0m \u001b[1m71s\u001b[0m 3s/step - accuracy: 0.8350 - loss: 0.4015 - sensitivity: 0.4751 - specificity: 0.4688\n",
      "Perdida: 0.40457984805107117, Accuracy: 0.8293785452842712, Especificidad: 0.4500425159931183, Sensibilidad: 0.4841092526912689\n"
     ]
    }
   ],
   "source": [
    "from tensorflow.keras.applications import DenseNet169\n",
    "from tensorflow.keras.layers import GlobalAveragePooling2D, Dense, Dropout\n",
    "from tensorflow.keras.models import Model\n",
    "from tensorflow.keras.callbacks import ModelCheckpoint, EarlyStopping\n",
    "from tensorflow.keras.optimizers import Adam\n",
    "from sklearn.metrics import confusion_matrix\n",
    "import tensorflow.keras.backend as K\n",
    "import numpy as np\n",
    "\n",
    "def specificity(y_true, y_pred):\n",
    "    true_negatives = K.sum(K.round(K.clip((1 - y_true) * (1 - y_pred), 0, 1)))\n",
    "    false_positives = K.sum(K.round(K.clip((1 - y_true) * y_pred, 0, 1)))\n",
    "    return true_negatives / (true_negatives + false_positives + K.epsilon())\n",
    "\n",
    "def sensitivity(y_true, y_pred):\n",
    "    true_positives = K.sum(K.round(K.clip(y_true * y_pred, 0, 1)))\n",
    "    false_negatives = K.sum(K.round(K.clip((1 - y_true) * y_pred, 0, 1)))\n",
    "    return true_positives / (true_positives + false_negatives + K.epsilon())\n",
    "\n",
    "modelo_DenseNet169 = DenseNet169(weights='imagenet', include_top=False, input_shape=(256, 256, 3))\n",
    "\n",
    "for layer in modelo_DenseNet169.layers:\n",
    "    layer.trainable = False\n",
    "\n",
    "def crea_modelo_DenseNet169(base_model):\n",
    "    x = base_model.output\n",
    "    x = GlobalAveragePooling2D()(x)\n",
    "    x = Dense(1024, activation='relu')(x)\n",
    "    x = Dropout(0.5)(x)  \n",
    "    predictions = Dense(1, activation='sigmoid')(x)\n",
    "\n",
    "    modelo_combinado_DenseNet169 = Model(inputs=base_model.input, outputs=predictions)\n",
    "    optimizer = Adam(learning_rate=0.0001)  \n",
    "    modelo_combinado_DenseNet169.compile(optimizer=optimizer, loss='binary_crossentropy', metrics=['accuracy', specificity, sensitivity])\n",
    "\n",
    "    return modelo_combinado_DenseNet169\n",
    "\n",
    "densenet_169 = crea_modelo_DenseNet169(modelo_DenseNet169)\n",
    "\n",
    "from tensorflow.keras.preprocessing.image import ImageDataGenerator\n",
    "\n",
    "train_datagen = ImageDataGenerator(\n",
    "    zoom_range=0.2,\n",
    "    shear_range=0.2,\n",
    "    rescale=1./255,\n",
    "    horizontal_flip=True\n",
    ")\n",
    "\n",
    "val_datagen = ImageDataGenerator(rescale=1./255)\n",
    "\n",
    "\n",
    "train_data = train_datagen.flow_from_directory(directory=r'C:\\Users\\enavarro\\Desktop\\Eduardo\\Proyecto_Bucal\\DataSet\\DataSet_Kaagle_2.0\\Division_Datos\\Entrenamiento', target_size=(256,256), batch_size=32, class_mode='binary')\n",
    "val_data = val_datagen.flow_from_directory(directory=r'C:\\Users\\enavarro\\Desktop\\Eduardo\\Proyecto_Bucal\\DataSet\\DataSet_Kaagle_2.0\\Division_Datos\\Validacion', target_size=(256,256), batch_size=32, class_mode='binary')\n",
    "\n",
    "checkpoint_callback = ModelCheckpoint(filepath=\"pt_control_modelo.keras\", monitor='val_accuracy', verbose=1, save_best_only=True, mode='auto')\n",
    "early_stopping_callback = EarlyStopping(monitor='val_loss', patience=10, verbose=1, restore_best_weights=True)\n",
    "\n",
    "densenet169 = densenet_169.fit(\n",
    "    train_data,\n",
    "    steps_per_epoch=2,\n",
    "    epochs=200,\n",
    "    validation_data=val_data,\n",
    "    validation_steps=1,\n",
    "    callbacks=[checkpoint_callback, early_stopping_callback] \n",
    ")\n",
    "\n",
    "y_true = val_data.labels\n",
    "y_pred = densenet_169.predict(val_data)\n",
    "val_loss, val_accuracy, val_specificity, val_sensitivity = densenet_169.evaluate(val_data)\n",
    "print(f\"Perdida: {val_loss}, Accuracy: {val_accuracy}, Especificidad: {val_specificity}, Sensibilidad: {val_sensitivity}\") \n"
   ]
  },
  {
   "cell_type": "code",
   "execution_count": 5,
   "id": "c28e657c-fe7d-474b-a5d1-6a5d399fa57a",
   "metadata": {},
   "outputs": [
    {
     "name": "stdout",
     "output_type": "stream",
     "text": [
      "Accuracy DenseNet169 = 82.93785452842712 %\n",
      "Perdida DenseNet169 = 40.45798480510712 %\n",
      "Especificidad DenseNet169 = 45.00425159931183 %\n",
      "Sensibilidad DenseNet169 = 48.41092526912689 %\n"
     ]
    }
   ],
   "source": [
    "print(f\"Accuracy DenseNet169 = {val_accuracy * 100} %\")\n",
    "print(f\"Perdida DenseNet169 = {val_loss * 100} %\")\n",
    "print(f\"Especificidad DenseNet169 = {val_specificity * 100} %\")\n",
    "print(f\"Sensibilidad DenseNet169 = {val_sensitivity * 100} %\")"
   ]
  },
  {
   "cell_type": "code",
   "execution_count": 8,
   "id": "edf317b7-06d2-45d4-aa0a-dc7b26a53e45",
   "metadata": {},
   "outputs": [
    {
     "name": "stdout",
     "output_type": "stream",
     "text": [
      "Epoch 1/50\n",
      "\u001b[1m2/2\u001b[0m \u001b[32m━━━━━━━━━━━━━━━━━━━━\u001b[0m\u001b[37m\u001b[0m \u001b[1m0s\u001b[0m 2s/step - accuracy: 0.8516 - loss: 0.3518 - sensitivity: 0.4844 - specificity: 0.5391  \n",
      "Epoch 1: val_accuracy did not improve from 0.93750\n",
      "\u001b[1m2/2\u001b[0m \u001b[32m━━━━━━━━━━━━━━━━━━━━\u001b[0m\u001b[37m\u001b[0m \u001b[1m37s\u001b[0m 10s/step - accuracy: 0.8542 - loss: 0.3507 - sensitivity: 0.4792 - specificity: 0.5417 - val_accuracy: 0.9062 - val_loss: 0.2933 - val_sensitivity: 0.4375 - val_specificity: 0.4688\n",
      "Epoch 2/50\n",
      "\u001b[1m2/2\u001b[0m \u001b[32m━━━━━━━━━━━━━━━━━━━━\u001b[0m\u001b[37m\u001b[0m \u001b[1m0s\u001b[0m 2s/step - accuracy: 0.7422 - loss: 0.5220 - sensitivity: 0.2891 - specificity: 0.5156\n",
      "Epoch 2: val_accuracy did not improve from 0.93750\n",
      "\u001b[1m2/2\u001b[0m \u001b[32m━━━━━━━━━━━━━━━━━━━━\u001b[0m\u001b[37m\u001b[0m \u001b[1m7s\u001b[0m 5s/step - accuracy: 0.7500 - loss: 0.5036 - sensitivity: 0.3125 - specificity: 0.5208 - val_accuracy: 0.9375 - val_loss: 0.2390 - val_sensitivity: 0.4688 - val_specificity: 0.4688\n",
      "Epoch 3/50\n",
      "\u001b[1m2/2\u001b[0m \u001b[32m━━━━━━━━━━━━━━━━━━━━\u001b[0m\u001b[37m\u001b[0m \u001b[1m0s\u001b[0m 2s/step - accuracy: 0.8203 - loss: 0.3683 - sensitivity: 0.4219 - specificity: 0.6484\n",
      "Epoch 3: val_accuracy did not improve from 0.93750\n",
      "\u001b[1m2/2\u001b[0m \u001b[32m━━━━━━━━━━━━━━━━━━━━\u001b[0m\u001b[37m\u001b[0m \u001b[1m7s\u001b[0m 5s/step - accuracy: 0.8125 - loss: 0.3790 - sensitivity: 0.4375 - specificity: 0.6458 - val_accuracy: 0.9375 - val_loss: 0.2658 - val_sensitivity: 0.4688 - val_specificity: 0.5938\n",
      "Epoch 4/50\n",
      "\u001b[1m2/2\u001b[0m \u001b[32m━━━━━━━━━━━━━━━━━━━━\u001b[0m\u001b[37m\u001b[0m \u001b[1m0s\u001b[0m 2s/step - accuracy: 0.9141 - loss: 0.3485 - sensitivity: 0.5469 - specificity: 0.5234\n",
      "Epoch 4: val_accuracy did not improve from 0.93750\n",
      "\u001b[1m2/2\u001b[0m \u001b[32m━━━━━━━━━━━━━━━━━━━━\u001b[0m\u001b[37m\u001b[0m \u001b[1m7s\u001b[0m 5s/step - accuracy: 0.9167 - loss: 0.3410 - sensitivity: 0.5312 - specificity: 0.5312 - val_accuracy: 0.8125 - val_loss: 0.3890 - val_sensitivity: 0.5938 - val_specificity: 0.4688\n",
      "Epoch 5/50\n",
      "\u001b[1m2/2\u001b[0m \u001b[32m━━━━━━━━━━━━━━━━━━━━\u001b[0m\u001b[37m\u001b[0m \u001b[1m0s\u001b[0m 2s/step - accuracy: 0.8516 - loss: 0.3651 - sensitivity: 0.3984 - specificity: 0.5000\n",
      "Epoch 5: val_accuracy did not improve from 0.93750\n",
      "\u001b[1m2/2\u001b[0m \u001b[32m━━━━━━━━━━━━━━━━━━━━\u001b[0m\u001b[37m\u001b[0m \u001b[1m7s\u001b[0m 5s/step - accuracy: 0.8542 - loss: 0.3699 - sensitivity: 0.4167 - specificity: 0.5000 - val_accuracy: 0.9375 - val_loss: 0.2799 - val_sensitivity: 0.4062 - val_specificity: 0.5938\n",
      "Epoch 6/50\n",
      "\u001b[1m2/2\u001b[0m \u001b[32m━━━━━━━━━━━━━━━━━━━━\u001b[0m\u001b[37m\u001b[0m \u001b[1m0s\u001b[0m 2s/step - accuracy: 0.9297 - loss: 0.2727 - sensitivity: 0.5859 - specificity: 0.4531\n",
      "Epoch 6: val_accuracy did not improve from 0.93750\n",
      "\u001b[1m2/2\u001b[0m \u001b[32m━━━━━━━━━━━━━━━━━━━━\u001b[0m\u001b[37m\u001b[0m \u001b[1m7s\u001b[0m 5s/step - accuracy: 0.9271 - loss: 0.2657 - sensitivity: 0.5833 - specificity: 0.4479 - val_accuracy: 0.9062 - val_loss: 0.3159 - val_sensitivity: 0.6562 - val_specificity: 0.2500\n",
      "Epoch 7/50\n",
      "\u001b[1m2/2\u001b[0m \u001b[32m━━━━━━━━━━━━━━━━━━━━\u001b[0m\u001b[37m\u001b[0m \u001b[1m0s\u001b[0m 2s/step - accuracy: 0.8750 - loss: 0.4302 - sensitivity: 0.5547 - specificity: 0.4141\n",
      "Epoch 7: val_accuracy did not improve from 0.93750\n",
      "\u001b[1m2/2\u001b[0m \u001b[32m━━━━━━━━━━━━━━━━━━━━\u001b[0m\u001b[37m\u001b[0m \u001b[1m7s\u001b[0m 5s/step - accuracy: 0.8750 - loss: 0.4148 - sensitivity: 0.5417 - specificity: 0.4167 - val_accuracy: 0.9375 - val_loss: 0.2506 - val_sensitivity: 0.5312 - val_specificity: 0.4062\n",
      "Epoch 8/50\n",
      "\u001b[1m2/2\u001b[0m \u001b[32m━━━━━━━━━━━━━━━━━━━━\u001b[0m\u001b[37m\u001b[0m \u001b[1m0s\u001b[0m 2s/step - accuracy: 0.8125 - loss: 0.3368 - sensitivity: 0.5078 - specificity: 0.4453\n",
      "Epoch 8: val_accuracy did not improve from 0.93750\n",
      "\u001b[1m2/2\u001b[0m \u001b[32m━━━━━━━━━━━━━━━━━━━━\u001b[0m\u001b[37m\u001b[0m \u001b[1m7s\u001b[0m 5s/step - accuracy: 0.8021 - loss: 0.3686 - sensitivity: 0.4896 - specificity: 0.4375 - val_accuracy: 0.8750 - val_loss: 0.2443 - val_sensitivity: 0.5312 - val_specificity: 0.3438\n",
      "Epoch 9/50\n",
      "\u001b[1m2/2\u001b[0m \u001b[32m━━━━━━━━━━━━━━━━━━━━\u001b[0m\u001b[37m\u001b[0m \u001b[1m0s\u001b[0m 2s/step - accuracy: 0.9453 - loss: 0.1811 - sensitivity: 0.5156 - specificity: 0.4609\n",
      "Epoch 9: val_accuracy did not improve from 0.93750\n",
      "\u001b[1m2/2\u001b[0m \u001b[32m━━━━━━━━━━━━━━━━━━━━\u001b[0m\u001b[37m\u001b[0m \u001b[1m7s\u001b[0m 5s/step - accuracy: 0.9375 - loss: 0.1934 - sensitivity: 0.5104 - specificity: 0.4688 - val_accuracy: 0.9375 - val_loss: 0.2634 - val_sensitivity: 0.3750 - val_specificity: 0.5625\n",
      "Epoch 10/50\n",
      "\u001b[1m2/2\u001b[0m \u001b[32m━━━━━━━━━━━━━━━━━━━━\u001b[0m\u001b[37m\u001b[0m \u001b[1m0s\u001b[0m 2s/step - accuracy: 0.8672 - loss: 0.3399 - sensitivity: 0.3672 - specificity: 0.5156\n",
      "Epoch 10: val_accuracy did not improve from 0.93750\n",
      "\u001b[1m2/2\u001b[0m \u001b[32m━━━━━━━━━━━━━━━━━━━━\u001b[0m\u001b[37m\u001b[0m \u001b[1m7s\u001b[0m 5s/step - accuracy: 0.8646 - loss: 0.3317 - sensitivity: 0.3750 - specificity: 0.5104 - val_accuracy: 0.8125 - val_loss: 0.5057 - val_sensitivity: 0.5000 - val_specificity: 0.5000\n",
      "Epoch 10: early stopping\n",
      "Restoring model weights from the end of the best epoch: 1.\n"
     ]
    }
   ],
   "source": [
    "\n",
    "# Ajuste fino de algunas capas superiores del modelo\n",
    "for layer in densenet_169.layers[-20:]:\n",
    "    layer.trainable = True\n",
    "\n",
    "# Compila nuevamente el modelo para el ajuste fino\n",
    "densenet_169.compile(optimizer=Adam(learning_rate=0.0001), loss='binary_crossentropy', metrics=['accuracy', specificity, sensitivity])\n",
    "\n",
    "# Entrena nuevamente el modelo con el ajuste fino\n",
    "densenet169_fine_tuned = densenet_169.fit(\n",
    "    train_data,\n",
    "    steps_per_epoch=2,\n",
    "    epochs=50,  # Número de épocas para el ajuste fino\n",
    "    validation_data=val_data,\n",
    "    validation_steps=1,\n",
    "    callbacks=[checkpoint_callback, early_stopping_callback]\n",
    ")\n"
   ]
  },
  {
   "cell_type": "markdown",
   "id": "6e12d5b2-1e6c-4294-b402-d4369d2ab6c7",
   "metadata": {},
   "source": [
    "# TABLA RESUMEN"
   ]
  },
  {
   "cell_type": "code",
   "execution_count": 6,
   "id": "ab0f68c4-ccb0-4a9b-a54f-8842bddeff0d",
   "metadata": {},
   "outputs": [
    {
     "name": "stdout",
     "output_type": "stream",
     "text": [
      "Accuracy DenseNet169 = 87.01149225234985 %\n",
      "Perdida DenseNet169 = 31.058749556541443 %\n",
      "Especificidad DenseNet169 = 51.07886791229248 %\n",
      "Sensibilidad DenseNet169 = 48.80952537059784 %\n"
     ]
    }
   ],
   "source": [
    "print(f\"Accuracy DenseNet169 = {val_accuracy * 100} %\")\n",
    "print(f\"Perdida DenseNet169 = {val_loss * 100} %\")\n",
    "print(f\"Especificidad DenseNet169 = {val_specificity * 100} %\")\n",
    "print(f\"Sensibilidad DenseNet169 = {val_sensitivity * 100} %\")"
   ]
  },
  {
   "cell_type": "markdown",
   "id": "7c6ce1a9-0e06-4b4f-b512-29da93a9d7d8",
   "metadata": {},
   "source": [
    "# Graficos DenseNet 169"
   ]
  },
  {
   "cell_type": "code",
   "execution_count": 6,
   "id": "7cad5b6c-adef-4541-a392-aef936b449bd",
   "metadata": {},
   "outputs": [
    {
     "data": {
      "image/png": "[encoded data removed]",
      "text/plain": [
       "<Figure size 640x480 with 1 Axes>"
      ]
     },
     "metadata": {},
     "output_type": "display_data"
    },
    {
     "data": {
      "image/png": "[encoded data removed]",
      "text/plain": [
       "<Figure size 640x480 with 1 Axes>"
      ]
     },
     "metadata": {},
     "output_type": "display_data"
    }
   ],
   "source": [
    "from scipy.signal import savgol_filter\n",
    "import matplotlib.pyplot as plt\n",
    "\n",
    "training_accuracy_densenet169 = densenet169.history['accuracy']\n",
    "training_loss_densenet169 = densenet169.history['loss']\n",
    "validation_accuracy_densenet169 = densenet169.history['val_accuracy']\n",
    "validation_loss_densenet169 = densenet169.history['val_loss']\n",
    "\n",
    "smoothed_training_accuracy169 = savgol_filter(training_accuracy_densenet169, window_length=10, polyorder=1)\n",
    "smoothed_training_loss169 = savgol_filter(training_loss_densenet169, window_length=10, polyorder=1)\n",
    "smoothed_validation_accuracy169 = savgol_filter(validation_accuracy_densenet169, window_length=10, polyorder=1)\n",
    "smoothed_validation_loss169 = savgol_filter(validation_loss_densenet169, window_length=10, polyorder=1)\n",
    "\n",
    "plt.plot(smoothed_training_accuracy169, label='Training precision')\n",
    "plt.plot(smoothed_validation_accuracy169, label='Validation precisionn')\n",
    "plt.title('DenseNet169 Precision Curve')\n",
    "plt.xlabel('Epochs')\n",
    "plt.ylabel('Value')\n",
    "plt.legend()\n",
    "plt.show()\n",
    "\n",
    "plt.plot(smoothed_training_loss169, label='Training Loss')\n",
    "plt.plot(smoothed_validation_loss169, label='Validation Loss')\n",
    "plt.title('DenseNet169 Loss Curve')\n",
    "plt.xlabel('Epochs')\n",
    "plt.ylabel('Value')\n",
    "plt.legend()\n",
    "plt.show()\n"
   ]
  },
  {
   "cell_type": "code",
   "execution_count": 8,
   "id": "64bcfd6e-9328-417c-a2ab-99f49859c6e9",
   "metadata": {},
   "outputs": [
    {
     "name": "stderr",
     "output_type": "stream",
     "text": [
      "WARNING:absl:You are saving your model as an HDF5 file via `model.save()` or `keras.saving.save_model(model)`. This file format is considered legacy. We recommend using instead the native Keras format, e.g. `model.save('my_model.keras')` or `keras.saving.save_model(model, 'my_model.keras')`. \n"
     ]
    }
   ],
   "source": [
    "# Guardar Modelo Entrenado con mejor desempeño\n",
    "densenet_169.save(\"Modelo_densenet169.hdf5\")"
   ]
  }
 ],
 "metadata": {
  "kernelspec": {
   "display_name": "Python 3 (ipykernel)",
   "language": "python",
   "name": "python3"
  },
  "language_info": {
   "codemirror_mode": {
    "name": "ipython",
    "version": 3
   },
   "file_extension": ".py",
   "mimetype": "text/x-python",
   "name": "python",
   "nbconvert_exporter": "python",
   "pygments_lexer": "ipython3",
   "version": "3.11.7"
  }
 },
 "nbformat": 4,
 "nbformat_minor": 5
}
